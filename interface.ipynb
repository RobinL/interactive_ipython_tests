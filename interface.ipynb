{
 "cells": [
  {
   "cell_type": "markdown",
   "metadata": {},
   "source": [
    "http://ipywidgets.readthedocs.io/en/latest/examples/Widget%20Styling.html\n",
    "http://stackoverflow.com/questions/35880006/automatically-adjust-ipython-widgets-layout\n",
    "https://github.com/ipython/ipywidgets/blob/747011d9cae602fe740a1e49ce141cf82c3c4318/docs/source/examples/Widget%20Styling.ipynb\n",
    "https://github.com/ipython/ipywidgets/blob/747011d9cae602fe740a1e49ce141cf82c3c4318/docs/source/examples/Widget%20Low%20Level.ipynb\n",
    "https://github.com/ipython/ipywidgets/blob/747011d9cae602fe740a1e49ce141cf82c3c4318/docs/source/examples/Widget%20Basics.ipynb\n",
    "http://nbviewer.jupyter.org/gist/chriddyp/9827cb5086cfab8da092/Pandas%20Widget%20-%20Walkthrough.ipynb\n",
    "https://ipywidgets.readthedocs.io/en/stable/examples/Widget%20Styling.html\n"
   ]
  },
  {
   "cell_type": "code",
   "execution_count": 1,
   "metadata": {
    "collapsed": false
   },
   "outputs": [
    {
     "data": {
      "text/html": [
       "<style>\n",
       "div#notebook {background: #CBECFF}\n",
       "</style>\n"
      ],
      "text/plain": [
       "<IPython.core.display.HTML object>"
      ]
     },
     "metadata": {},
     "output_type": "display_data"
    },
    {
     "name": "stderr",
     "output_type": "stream",
     "text": [
      "Widget Javascript not detected.  It may not be installed properly. Did you enable the widgetsnbextension? If not, then run \"jupyter nbextension enable --py --sys-prefix widgetsnbextension\"\n"
     ]
    }
   ],
   "source": [
    "from factored_out import display_interface\n",
    "display_interface()"
   ]
  },
  {
   "cell_type": "markdown",
   "metadata": {},
   "source": [
    "Lots of trouble getting d3 to work here.  Trick was to use requirejs"
   ]
  },
  {
   "cell_type": "code",
   "execution_count": 10,
   "metadata": {
    "collapsed": false,
    "scrolled": false
   },
   "outputs": [
    {
     "data": {
      "application/javascript": [
       "require.config({\n",
       "    paths: {\n",
       "        d3: \"http://127.0.0.1:8888/files/d3.v4.min\",\n",
       "        mydata: \"http://127.0.0.1:8888/files/mydata\"\n",
       "     }\n",
       " });\n",
       "\n",
       "\n",
       "\n",
       "require([\"d3\", \"mydata\"], function(d3,mydata) {\n",
       "\n",
       "    debugger;\n",
       "    var myElem = document.getElementById('squares_svg');\n",
       "\n",
       "    if (myElem === null) {\n",
       "\n",
       "        var e = element.get(0)\n",
       "        var svg = d3.select(e).append(\"svg\")\n",
       "            .attr(\"height\",400)\n",
       "            .attr(\"width\",2000)\n",
       "            .attr(\"id\", \"squares_svg\")\n",
       "\n",
       "    } else {\n",
       "\n",
       "        var svg = d3.select(\"#squares_svg\")\n",
       "        svg.selectAll(\"*\").remove();\n",
       "\n",
       "    }\n",
       "        \n",
       "    var squares = [0.0, 6.8710886327191965, 12.985765864464478, 17.670890680965826, 20.41069592862957, 20.903567112787062, 19.095245963339316, 15.184803516504816, 9.602725159352051, 2.9635201692572113, -4.001927220385193, -10.52681802035524, -15.892852401466492, -19.509304526686, -20.978053259056495, -20.137409767925906, -17.079917222919182, -12.142163076630487, -5.867725462177443, 1.0526672075256274]\n",
       "\n",
       "    function my_sum(my_array) {\n",
       "        var sum = my_array.reduce(add, 0);\n",
       "        function add(a, b) {\n",
       "            return Math.abs(a) + Math.abs(b);\n",
       "        }\n",
       "        return sum\n",
       "    }\n",
       "\n",
       "    var my_max = Math.max.apply(Math, squares);\n",
       "\n",
       "    var color = d3.scaleLinear()\n",
       "        .domain([0,my_max*3/4,my_max])\n",
       "        .range([\"red\", \"purple\",\"blue\"]);\n",
       "\n",
       "    svg.selectAll(\"hello\")\n",
       "        .data(squares)\n",
       "        .enter()\n",
       "        .append(\"rect\")\n",
       "        .attr(\"width\",function(d) {return Math.abs(d)})\n",
       "        .attr(\"height\",function(d){return Math.abs(d)})\n",
       "        .attr(\"fill\", function(d) {return color(Math.abs(d)) })\n",
       "        .attr(\"x\", function(d,i){return 10 + my_sum(squares.slice(0,i)) +i*5 })\n",
       "        .attr(\"y\",function(d,i){return 100 + d*2})\n",
       "        console.log(1234)\n",
       "\n",
       "    $.getJSON( \"../files/mydata.json\", function( data ) {\n",
       "        debugger;\n",
       "    }\n",
       "    );\n",
       "\n",
       "})"
      ],
      "text/plain": [
       "<IPython.core.display.Javascript object>"
      ]
     },
     "metadata": {},
     "output_type": "display_data"
    }
   ],
   "source": [
    "from d3_test import Interface\n",
    "i = Interface()"
   ]
  },
  {
   "cell_type": "code",
   "execution_count": null,
   "metadata": {
    "collapsed": true
   },
   "outputs": [],
   "source": []
  }
 ],
 "metadata": {
  "anaconda-cloud": {},
  "kernelspec": {
   "display_name": "Python [default]",
   "language": "python",
   "name": "python2"
  },
  "language_info": {
   "codemirror_mode": {
    "name": "ipython",
    "version": 2
   },
   "file_extension": ".py",
   "mimetype": "text/x-python",
   "name": "python",
   "nbconvert_exporter": "python",
   "pygments_lexer": "ipython2",
   "version": "2.7.12"
  },
  "widgets": {
   "state": {
    "675a558096b5470e89f154bdfcb14c5b": {
     "views": [
      {
       "cell_index": 3
      }
     ]
    },
    "6faed8cfaa924c00ab38c069cc6fa2bb": {
     "views": [
      {
       "cell_index": 1
      }
     ]
    }
   },
   "version": "1.2.0"
  }
 },
 "nbformat": 4,
 "nbformat_minor": 0
}
