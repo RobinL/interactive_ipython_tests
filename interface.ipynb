{
 "cells": [
  {
   "cell_type": "markdown",
   "metadata": {},
   "source": [
    "http://ipywidgets.readthedocs.io/en/latest/examples/Widget%20Styling.html\n",
    "http://stackoverflow.com/questions/35880006/automatically-adjust-ipython-widgets-layout\n",
    "https://github.com/ipython/ipywidgets/blob/747011d9cae602fe740a1e49ce141cf82c3c4318/docs/source/examples/Widget%20Styling.ipynb\n",
    "https://github.com/ipython/ipywidgets/blob/747011d9cae602fe740a1e49ce141cf82c3c4318/docs/source/examples/Widget%20Low%20Level.ipynb\n",
    "https://github.com/ipython/ipywidgets/blob/747011d9cae602fe740a1e49ce141cf82c3c4318/docs/source/examples/Widget%20Basics.ipynb\n",
    "http://nbviewer.jupyter.org/gist/chriddyp/9827cb5086cfab8da092/Pandas%20Widget%20-%20Walkthrough.ipynb\n",
    "https://ipywidgets.readthedocs.io/en/stable/examples/Widget%20Styling.html\n"
   ]
  },
  {
   "cell_type": "code",
   "execution_count": null,
   "metadata": {
    "collapsed": false
   },
   "outputs": [],
   "source": [
    "from factored_out import display_interface\n",
    "display_interface()"
   ]
  },
  {
   "cell_type": "markdown",
   "metadata": {},
   "source": [
    "Lots of trouble getting d3 to work here.  Trick was to use requirejs"
   ]
  },
  {
   "cell_type": "code",
   "execution_count": null,
   "metadata": {
    "collapsed": false,
    "scrolled": false
   },
   "outputs": [],
   "source": [
    "from d3_test import Interface\n",
    "i = Interface()"
   ]
  },
  {
   "cell_type": "code",
   "execution_count": null,
   "metadata": {
    "collapsed": true
   },
   "outputs": [],
   "source": []
  }
 ],
 "metadata": {
  "anaconda-cloud": {},
  "kernelspec": {
   "display_name": "Python [default]",
   "language": "python",
   "name": "python2"
  },
  "language_info": {
   "codemirror_mode": {
    "name": "ipython",
    "version": 2
   },
   "file_extension": ".py",
   "mimetype": "text/x-python",
   "name": "python",
   "nbconvert_exporter": "python",
   "pygments_lexer": "ipython2",
   "version": "2.7.12"
  },
  "widgets": {
   "state": {
    "2fcf09e6802543c4aed727e6b8ee3492": {
     "views": [
      {
       "cell_index": 3
      }
     ]
    },
    "94ee4466aeaa4fbdbb6a33500a0ec3c6": {
     "views": [
      {
       "cell_index": 1
      }
     ]
    }
   },
   "version": "1.2.0"
  }
 },
 "nbformat": 4,
 "nbformat_minor": 0
}
