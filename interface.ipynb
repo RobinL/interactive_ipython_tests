{
 "cells": [
  {
   "cell_type": "code",
   "execution_count": 10,
   "metadata": {
    "collapsed": false
   },
   "outputs": [
    {
     "data": {
      "text/html": [
       "<style>\n",
       ".form_control.widget-text {background: #224499;}\n",
       ".example-container {background: #999999; padding: 2px; min-height: 100px;}\n",
       ".example-container.sm {min-height: 50px;}\n",
       "</style>\n"
      ],
      "text/plain": [
       "<IPython.core.display.HTML object>"
      ]
     },
     "metadata": {},
     "output_type": "display_data"
    }
   ],
   "source": [
    "from factored_out import display_interface"
   ]
  },
  {
   "cell_type": "code",
   "execution_count": 12,
   "metadata": {
    "collapsed": false
   },
   "outputs": [
    {
     "data": {
      "application/javascript": [
       "var e = element.get(0)\n",
       "var svg = d3.select(e).append(\"svg\")\n",
       "    .attr(\"height\",400)\n",
       "    .attr(\"width\",2000)\n",
       "    \n",
       "var squares = [0.0, 0.0, 21.036774620197413, 21.036774620197413, 22.732435670642044, 22.732435670642044, 3.5280002014966803, 3.5280002014966803, -18.920062382698205, -18.920062382698205]\n",
       "\n",
       "function my_sum(my_array) {\n",
       "    var sum = my_array.reduce(add, 0);\n",
       "    function add(a, b) {\n",
       "        return Math.abs(a) + Math.abs(b);\n",
       "    }\n",
       "    return sum\n",
       "}\n",
       "\n",
       "var my_max = Math.max.apply(Math, squares);\n",
       "\n",
       "var color = d3.scale.linear()\n",
       "    .domain([0,my_max*3/4,my_max])\n",
       "    .range([\"red\", \"purple\",\"blue\"]);\n",
       "\n",
       "svg.selectAll(\"hello\")\n",
       "    .data(squares)\n",
       "    .enter()\n",
       "    .append(\"rect\")\n",
       "    .attr(\"width\",function(d) {return Math.abs(d)})\n",
       "    .attr(\"height\",function(d){return Math.abs(d)})\n",
       "    .attr(\"fill\", function(d) {return color(Math.abs(d)) })\n",
       "    .attr(\"x\", function(d,i){return 10 + my_sum(squares.slice(0,i)) +i*5 })\n",
       "    .attr(\"y\",function(d,i){return 100 + d*2})"
      ],
      "text/plain": [
       "<IPython.core.display.Javascript object>"
      ]
     },
     "metadata": {},
     "output_type": "display_data"
    }
   ],
   "source": [
    "import d3_test\n",
    "reload(d3_test)\n",
    "interface = d3_test.Interface()"
   ]
  }
 ],
 "metadata": {
  "kernelspec": {
   "display_name": "Python 2",
   "language": "python",
   "name": "python2"
  },
  "language_info": {
   "codemirror_mode": {
    "name": "ipython",
    "version": 2
   },
   "file_extension": ".py",
   "mimetype": "text/x-python",
   "name": "python",
   "nbconvert_exporter": "python",
   "pygments_lexer": "ipython2",
   "version": "2.7.11"
  }
 },
 "nbformat": 4,
 "nbformat_minor": 0
}
