{
 "cells": [
  {
   "cell_type": "code",
   "execution_count": null,
   "metadata": {
    "collapsed": false
   },
   "outputs": [],
   "source": [
    "from factored_out import display_interface"
   ]
  },
  {
   "cell_type": "code",
   "execution_count": 33,
   "metadata": {
    "collapsed": false,
    "scrolled": false
   },
   "outputs": [
    {
     "data": {
      "application/javascript": [
       "var e = element.get(0)\n",
       "var svg = d3.select(e).append(\"svg\")\n",
       "    .attr(\"height\",400)\n",
       "    .attr(\"width\",2000)\n",
       "    \n",
       "var squares = [0.0, 6.7074912843211205, 12.676580962929608, 17.250155188561877, 19.92472697794791, 20.405863133911183, 18.640597249926476, 14.823260575635654, 9.374088846034146, 2.892960165227278, -3.9066432389474506, -10.276179496061067, -15.514451153812528, -19.04479727605062, -20.478575800507528, -19.65794763059434, -16.673252527135393, -11.853063955758332, -5.72801771307798, 1.027603702584541]\n",
       "\n",
       "function my_sum(my_array) {\n",
       "    var sum = my_array.reduce(add, 0);\n",
       "    function add(a, b) {\n",
       "        return Math.abs(a) + Math.abs(b);\n",
       "    }\n",
       "    return sum\n",
       "}\n",
       "\n",
       "var my_max = Math.max.apply(Math, squares);\n",
       "\n",
       "var color = d3.scale.linear()\n",
       "    .domain([0,my_max*3/4,my_max])\n",
       "    .range([\"red\", \"purple\",\"blue\"]);\n",
       "\n",
       "svg.selectAll(\"hello\")\n",
       "    .data(squares)\n",
       "    .enter()\n",
       "    .append(\"rect\")\n",
       "    .attr(\"width\",function(d) {return Math.abs(d)})\n",
       "    .attr(\"height\",function(d){return Math.abs(d)})\n",
       "    .attr(\"fill\", function(d) {return color(Math.abs(d)) })\n",
       "    .attr(\"x\", function(d,i){return 10 + my_sum(squares.slice(0,i)) +i*5 })\n",
       "    .attr(\"y\",function(d,i){return 100 + d*2})"
      ],
      "text/plain": [
       "<IPython.core.display.Javascript object>"
      ]
     },
     "metadata": {},
     "output_type": "display_data"
    },
    {
     "data": {
      "text/plain": [
       "'hello'"
      ]
     },
     "metadata": {},
     "output_type": "display_data"
    }
   ],
   "source": [
    "import d3_test\n",
    "reload(d3_test)\n",
    "interface = d3_test.Interface()"
   ]
  },
  {
   "cell_type": "markdown",
   "metadata": {},
   "source": [
    "http://ipywidgets.readthedocs.io/en/latest/examples/Widget%20Styling.html\n",
    "http://stackoverflow.com/questions/35880006/automatically-adjust-ipython-widgets-layout\n",
    "https://github.com/ipython/ipywidgets/blob/747011d9cae602fe740a1e49ce141cf82c3c4318/docs/source/examples/Widget%20Styling.ipynb\n",
    "https://github.com/ipython/ipywidgets/blob/747011d9cae602fe740a1e49ce141cf82c3c4318/docs/source/examples/Widget%20Low%20Level.ipynb\n",
    "https://github.com/ipython/ipywidgets/blob/747011d9cae602fe740a1e49ce141cf82c3c4318/docs/source/examples/Widget%20Basics.ipynb\n",
    "http://nbviewer.jupyter.org/gist/chriddyp/9827cb5086cfab8da092/Pandas%20Widget%20-%20Walkthrough.ipynb\n",
    "https://ipywidgets.readthedocs.io/en/stable/examples/Widget%20Styling.html\n"
   ]
  }
 ],
 "metadata": {
  "anaconda-cloud": {},
  "kernelspec": {
   "display_name": "Python [default]",
   "language": "python",
   "name": "python2"
  },
  "language_info": {
   "codemirror_mode": {
    "name": "ipython",
    "version": 2
   },
   "file_extension": ".py",
   "mimetype": "text/x-python",
   "name": "python",
   "nbconvert_exporter": "python",
   "pygments_lexer": "ipython2",
   "version": "2.7.12"
  },
  "widgets": {
   "state": {
    "2462979a08d54a0282ab1f27d7ae9f7e": {
     "views": [
      {
       "cell_index": 4
      }
     ]
    },
    "26ce64cf424548bcad36d4c640d1b045": {
     "views": [
      {
       "cell_index": 1
      }
     ]
    },
    "2b614977701b4d9fb20350beaf8401c3": {
     "views": [
      {
       "cell_index": 1
      }
     ]
    },
    "3b5ebc8d2c384b8dbd999c57fbc2e377": {
     "views": [
      {
       "cell_index": 1
      }
     ]
    },
    "627bc5815276487d900e22d10204817a": {
     "views": [
      {
       "cell_index": 1
      }
     ]
    },
    "6bec3594786d4b87b259b8b458e6ec3c": {
     "views": [
      {
       "cell_index": 1
      }
     ]
    },
    "7dcd65e91b8d439eb57c850d2dc13e28": {
     "views": [
      {
       "cell_index": 1
      }
     ]
    },
    "95fad53438a14809a312a591976f5cee": {
     "views": [
      {
       "cell_index": 1
      }
     ]
    },
    "9cfb8b5a9336465a806bb753fef27cba": {
     "views": [
      {
       "cell_index": 4
      }
     ]
    },
    "a1e945942f204d88beef90a361a95735": {
     "views": [
      {
       "cell_index": 1
      }
     ]
    },
    "b69ad54281204971b4686c1d026eddb8": {
     "views": [
      {
       "cell_index": 1
      }
     ]
    },
    "b888ba44aba240f69e8c2048ab5723f2": {
     "views": [
      {
       "cell_index": 1
      }
     ]
    },
    "cb190058b45d40388ef1acf0d4496788": {
     "views": [
      {
       "cell_index": 4
      }
     ]
    },
    "dafeccbca93c4093a6011b6fa6a59b40": {
     "views": [
      {
       "cell_index": 1
      }
     ]
    }
   },
   "version": "1.2.0"
  }
 },
 "nbformat": 4,
 "nbformat_minor": 0
}
