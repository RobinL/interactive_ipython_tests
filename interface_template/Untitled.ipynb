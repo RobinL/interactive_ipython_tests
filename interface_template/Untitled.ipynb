{
 "cells": [
  {
   "cell_type": "code",
   "execution_count": 4,
   "metadata": {
    "collapsed": false,
    "nbpresent": {
     "id": "e8b26390-21f4-4512-9f46-2c0c85f90a94"
    },
    "scrolled": true
   },
   "outputs": [],
   "source": [
    "import interface_template"
   ]
  },
  {
   "cell_type": "code",
   "execution_count": 5,
   "metadata": {
    "collapsed": false,
    "nbpresent": {
     "id": "962324ed-b2a2-468d-8aaf-a7fd85954f24"
    }
   },
   "outputs": [
    {
     "name": "stdout",
     "output_type": "stream",
     "text": [
      "single_widget layout has blue border\n",
      "label_layout has red border\n",
      "label_and_widget_pair_layout has green border\n",
      "layout_for_each_col has yellow border\n",
      "layout_column_container has purple border\n"
     ]
    }
   ],
   "source": [
    "reload(interface_template)\n",
    "import interface_template\n",
    "model = interface_template.Model()\n",
    "gui = interface_template.Widget_GUI(\"interface_definition.csv\", \"gui_settings.json\", model)"
   ]
  },
  {
   "cell_type": "code",
   "execution_count": 6,
   "metadata": {
    "collapsed": false
   },
   "outputs": [
    {
     "name": "stdout",
     "output_type": "stream",
     "text": [
      "single_widget layout has blue border\n",
      "label_layout has red border\n",
      "label_and_widget_pair_layout has green border\n",
      "layout_for_each_col has yellow border\n",
      "layout_column_container has purple border\n"
     ]
    },
    {
     "data": {
      "text/plain": [
       "<regression_gui.Widget_Gui_Regression instance at 0x11408e3f8>"
      ]
     },
     "execution_count": 6,
     "metadata": {},
     "output_type": "execute_result"
    }
   ],
   "source": [
    "from regression_gui import Widget_Gui_Regression\n",
    "Widget_Gui_Regression(\"interface_definition.csv\", \"gui_settings.json\", model)"
   ]
  },
  {
   "cell_type": "code",
   "execution_count": 18,
   "metadata": {
    "collapsed": false
   },
   "outputs": [],
   "source": [
    "ipywidgets.SelectMultiple(values=list(\"abc\"))"
   ]
  },
  {
   "cell_type": "code",
   "execution_count": 20,
   "metadata": {
    "collapsed": true
   },
   "outputs": [],
   "source": [
    "??ipywidgets.SelectMultiple"
   ]
  },
  {
   "cell_type": "code",
   "execution_count": null,
   "metadata": {
    "collapsed": true
   },
   "outputs": [],
   "source": []
  }
 ],
 "metadata": {
  "anaconda-cloud": {},
  "kernelspec": {
   "display_name": "Python [default]",
   "language": "python",
   "name": "python2"
  },
  "language_info": {
   "codemirror_mode": {
    "name": "ipython",
    "version": 2
   },
   "file_extension": ".py",
   "mimetype": "text/x-python",
   "name": "python",
   "nbconvert_exporter": "python",
   "pygments_lexer": "ipython2",
   "version": "2.7.12"
  },
  "nbpresent": {
   "slides": {
    "1d5e2c96-5874-4a4e-bcb4-299b5c86a61f": {
     "id": "1d5e2c96-5874-4a4e-bcb4-299b5c86a61f",
     "prev": null,
     "regions": {
      "9cb9a39b-edd6-482e-a41f-ef2957cb3fa1": {
       "attrs": {
        "height": 0.7999999999999999,
        "width": 0.8,
        "x": 0.1221870047543581,
        "y": 0.12676527557668613
       },
       "content": {
        "cell": "e8b26390-21f4-4512-9f46-2c0c85f90a94",
        "part": "whole"
       },
       "id": "9cb9a39b-edd6-482e-a41f-ef2957cb3fa1"
      }
     }
    },
    "bcab8895-e817-4229-9168-913d994be286": {
     "id": "bcab8895-e817-4229-9168-913d994be286",
     "prev": "1d5e2c96-5874-4a4e-bcb4-299b5c86a61f",
     "regions": {
      "f51cc128-71dc-47f7-87d2-6fc6a2b61687": {
       "attrs": {
        "height": 0.8,
        "width": 0.8,
        "x": 0.1,
        "y": 0.1
       },
       "content": {
        "cell": "962324ed-b2a2-468d-8aaf-a7fd85954f24",
        "part": "whole"
       },
       "id": "f51cc128-71dc-47f7-87d2-6fc6a2b61687"
      }
     }
    },
    "f455b2d0-78b5-49f4-9687-96f385c88524": {
     "id": "f455b2d0-78b5-49f4-9687-96f385c88524",
     "prev": "bcab8895-e817-4229-9168-913d994be286",
     "regions": {
      "48bc8bdb-6831-43d1-ab8f-eb6a862b2ff8": {
       "attrs": {
        "height": 0.8,
        "width": 0.8,
        "x": 0.1,
        "y": 0.1
       },
       "content": {
        "cell": "2ce4c8d7-8a03-4adc-a0db-b7018b09eacc",
        "part": "whole"
       },
       "id": "48bc8bdb-6831-43d1-ab8f-eb6a862b2ff8"
      }
     }
    },
    "f9e7ea86-fc6d-4774-8e69-753ad0cfa41e": {
     "id": "f9e7ea86-fc6d-4774-8e69-753ad0cfa41e",
     "prev": "f455b2d0-78b5-49f4-9687-96f385c88524",
     "regions": {
      "19d1cdbd-388f-4e14-b7d0-7c04f82dfb74": {
       "attrs": {
        "height": 0.8,
        "width": 0.8,
        "x": 0.1,
        "y": 0.1
       },
       "content": {
        "cell": "3e2539f1-428c-4631-8dfc-671e50f82a8a",
        "part": "whole"
       },
       "id": "19d1cdbd-388f-4e14-b7d0-7c04f82dfb74"
      }
     }
    }
   },
   "themes": {}
  },
  "widgets": {
   "state": {
    "2322a1851dbe4d8ca36fd15c25c3d3ab": {
     "views": [
      {
       "cell_index": 2
      }
     ]
    },
    "23fa0961cd52445da64103b2a2112f32": {
     "views": [
      {
       "cell_index": 3
      }
     ]
    },
    "4ceb350b4b4f4fd1b9df32e8452cc016": {
     "views": [
      {
       "cell_index": 1
      }
     ]
    }
   },
   "version": "1.2.0"
  }
 },
 "nbformat": 4,
 "nbformat_minor": 1
}
