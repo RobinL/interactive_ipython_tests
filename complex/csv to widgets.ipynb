{
 "cells": [
  {
   "cell_type": "code",
   "execution_count": 1,
   "metadata": {
    "collapsed": true
   },
   "outputs": [],
   "source": [
    "import pandas as pd "
   ]
  },
  {
   "cell_type": "code",
   "execution_count": 2,
   "metadata": {
    "collapsed": false
   },
   "outputs": [
    {
     "data": {
      "text/html": [
       "<div>\n",
       "<table border=\"1\" class=\"dataframe\">\n",
       "  <thead>\n",
       "    <tr style=\"text-align: right;\">\n",
       "      <th></th>\n",
       "      <th>id</th>\n",
       "      <th>desc</th>\n",
       "      <th>control_type</th>\n",
       "      <th>row_num</th>\n",
       "      <th>col_num</th>\n",
       "      <th>relative_size</th>\n",
       "      <th>min</th>\n",
       "      <th>max</th>\n",
       "      <th>value</th>\n",
       "    </tr>\n",
       "  </thead>\n",
       "  <tbody>\n",
       "    <tr>\n",
       "      <th>0</th>\n",
       "      <td>var_x</td>\n",
       "      <td>Variance of x</td>\n",
       "      <td>FloatSlider</td>\n",
       "      <td>1</td>\n",
       "      <td>1</td>\n",
       "      <td>1</td>\n",
       "      <td>0</td>\n",
       "      <td>10</td>\n",
       "      <td>1</td>\n",
       "    </tr>\n",
       "    <tr>\n",
       "      <th>2</th>\n",
       "      <td>num_x_vars</td>\n",
       "      <td>Number of independent vars</td>\n",
       "      <td>IntSlider</td>\n",
       "      <td>2</td>\n",
       "      <td>1</td>\n",
       "      <td>1</td>\n",
       "      <td></td>\n",
       "      <td></td>\n",
       "      <td></td>\n",
       "    </tr>\n",
       "    <tr>\n",
       "      <th>4</th>\n",
       "      <td>x_vars</td>\n",
       "      <td>Choose dependent variables</td>\n",
       "      <td>SelectMultiple</td>\n",
       "      <td>3</td>\n",
       "      <td>1</td>\n",
       "      <td>1</td>\n",
       "      <td></td>\n",
       "      <td></td>\n",
       "      <td></td>\n",
       "    </tr>\n",
       "    <tr>\n",
       "      <th>1</th>\n",
       "      <td>num_points</td>\n",
       "      <td>Number of Points</td>\n",
       "      <td>IntSlider</td>\n",
       "      <td>1</td>\n",
       "      <td>2</td>\n",
       "      <td>1</td>\n",
       "      <td>1</td>\n",
       "      <td>10000</td>\n",
       "      <td>1000</td>\n",
       "    </tr>\n",
       "    <tr>\n",
       "      <th>3</th>\n",
       "      <td>var_e</td>\n",
       "      <td>Variance of e</td>\n",
       "      <td>FloatSlider</td>\n",
       "      <td>2</td>\n",
       "      <td>2</td>\n",
       "      <td>1</td>\n",
       "      <td></td>\n",
       "      <td></td>\n",
       "      <td></td>\n",
       "    </tr>\n",
       "    <tr>\n",
       "      <th>5</th>\n",
       "      <td>some_text</td>\n",
       "      <td>Arbitrary text</td>\n",
       "      <td>Text</td>\n",
       "      <td>2</td>\n",
       "      <td>3</td>\n",
       "      <td>3</td>\n",
       "      <td></td>\n",
       "      <td></td>\n",
       "      <td>Hello</td>\n",
       "    </tr>\n",
       "  </tbody>\n",
       "</table>\n",
       "</div>"
      ],
      "text/plain": [
       "           id                        desc    control_type  row_num  col_num  \\\n",
       "0       var_x               Variance of x     FloatSlider        1        1   \n",
       "2  num_x_vars  Number of independent vars       IntSlider        2        1   \n",
       "4      x_vars  Choose dependent variables  SelectMultiple        3        1   \n",
       "1  num_points            Number of Points       IntSlider        1        2   \n",
       "3       var_e               Variance of e     FloatSlider        2        2   \n",
       "5   some_text              Arbitrary text            Text        2        3   \n",
       "\n",
       "   relative_size min    max  value  \n",
       "0              1   0     10      1  \n",
       "2              1                    \n",
       "4              1                    \n",
       "1              1   1  10000   1000  \n",
       "3              1                    \n",
       "5              3             Hello  "
      ]
     },
     "execution_count": 2,
     "metadata": {},
     "output_type": "execute_result"
    }
   ],
   "source": [
    "df = pd.read_csv(\"interface_definition.csv\")\n",
    "df.head()\n",
    "df = df.sort_values(by = [\"col_num\", \"row_num\"])\n",
    "df.fillna(\"\")"
   ]
  },
  {
   "cell_type": "code",
   "execution_count": 3,
   "metadata": {
    "collapsed": false
   },
   "outputs": [],
   "source": [
    "elements = df.to_dict(orient=\"records\")"
   ]
  },
  {
   "cell_type": "code",
   "execution_count": 4,
   "metadata": {
    "collapsed": true
   },
   "outputs": [],
   "source": [
    "from IPython.display import Javascript, display, clear_output\n",
    "from ipywidgets import IntSlider, FloatSlider, Layout, HBox, Label, VBox, Box, Dropdown, FloatText, Textarea, SelectMultiple\n",
    "import ipywidgets"
   ]
  },
  {
   "cell_type": "code",
   "execution_count": 5,
   "metadata": {
    "collapsed": false
   },
   "outputs": [],
   "source": [
    "# from IPython.display import HTML, display\n",
    "\n",
    "# display(HTML('''<style>\n",
    "#     .widget-label { min-width: 20ex !important; }\n",
    "# </style>'''))"
   ]
  },
  {
   "cell_type": "code",
   "execution_count": 16,
   "metadata": {
    "collapsed": false
   },
   "outputs": [
    {
     "name": "stderr",
     "output_type": "stream",
     "text": [
      "Widget Javascript not detected.  It may not be installed properly. Did you enable the widgetsnbextension? If not, then run \"jupyter nbextension enable --py --sys-prefix widgetsnbextension\"\n"
     ]
    }
   ],
   "source": [
    "widgets = {}\n",
    "from collections import defaultdict\n",
    "cols = defaultdict(list)\n",
    "\n",
    "item_layout = Layout(border='solid 1px', height=\"50px\")\n",
    "\n",
    "for el in elements:\n",
    "\n",
    "    this_constructor = getattr(ipywidgets, el[\"control_type\"])\n",
    "\n",
    "    args= {\"description\": el[\"desc\"]}\n",
    "    \n",
    "    for arg in [\"min\", \"max\", \"value\"]:\n",
    "        if pd.notnull(el[arg]):    \n",
    "            try: \n",
    "                if el[arg].is_integer():\n",
    "                    el[arg] = int(el[arg])\n",
    "            except:\n",
    "                pass\n",
    "    args[\"layout\"] = item_layout\n",
    "        \n",
    "    this_widget = this_constructor(**args)\n",
    "    \n",
    "    this_widget.layout = item_layout\n",
    "    widgets[el[\"id\"]] = this_widget\n",
    "    cols[el[\"col_num\"]-1].append(this_widget)\n",
    "    \n",
    "cols = [c for i,c in cols.items()]\n",
    "\n",
    "\n",
    "# The controls within the columns take up as much space as they want\n",
    "layout_for_each_col = Layout(border='solid 1px', flex=\"1 1 auto\")\n",
    "cols = [VBox(c, layout=layout_for_each_col) for c in cols]\n",
    "\n",
    "widgets[\"x_vars\"].options = [1,2,3]\n",
    "\n",
    "# Equally spaced controls horizontally\n",
    "layout_columns = Layout(border='solid 1px', flex=\"1 1 auto\")\n",
    "HBox(cols, layout=layout_columns)"
   ]
  },
  {
   "cell_type": "code",
   "execution_count": null,
   "metadata": {
    "collapsed": false
   },
   "outputs": [],
   "source": [
    "FloatSlider(description = \"this is a long description of the label\")"
   ]
  },
  {
   "cell_type": "code",
   "execution_count": null,
   "metadata": {
    "collapsed": false
   },
   "outputs": [],
   "source": [
    "SelectMultiple(options=[1,2,3])"
   ]
  },
  {
   "cell_type": "code",
   "execution_count": null,
   "metadata": {
    "collapsed": false
   },
   "outputs": [],
   "source": [
    "label_layout = Layout()\n",
    "\n",
    "form_item_layout = Layout(\n",
    "    display='flex',\n",
    "    flex_flow='row',\n",
    "    justify_content='space-between'\n",
    ")\n",
    "\n",
    "form_items = [\n",
    "    Box([Label(value='Age of the captain'), \n",
    "         IntSlider(min=40, max=60)], \n",
    "        layout=form_item_layout),\n",
    "    Box([Label(value='Egg style'),\n",
    "         Dropdown(options=['Scrambled', 'Sunny side up', 'Over easy'])], \n",
    "        layout=form_item_layout),\n",
    "    Box([Label(value='Ship size'),\n",
    "         FloatText()], \n",
    "        layout=form_item_layout),\n",
    "    Box([Label(value='Information'),\n",
    "         Textarea()], \n",
    "        layout=form_item_layout)\n",
    "]\n",
    "\n",
    "form = Box(form_items, layout=Layout(\n",
    "    display='flex',\n",
    "    flex_flow='column',\n",
    "    border='solid 2px',\n",
    "    align_items='stretch',\n",
    "    width='30%'\n",
    "))\n",
    "form"
   ]
  },
  {
   "cell_type": "code",
   "execution_count": null,
   "metadata": {
    "collapsed": true
   },
   "outputs": [],
   "source": []
  },
  {
   "cell_type": "code",
   "execution_count": null,
   "metadata": {
    "collapsed": true
   },
   "outputs": [],
   "source": []
  }
 ],
 "metadata": {
  "anaconda-cloud": {},
  "kernelspec": {
   "display_name": "Python [default]",
   "language": "python",
   "name": "python2"
  },
  "language_info": {
   "codemirror_mode": {
    "name": "ipython",
    "version": 2
   },
   "file_extension": ".py",
   "mimetype": "text/x-python",
   "name": "python",
   "nbconvert_exporter": "python",
   "pygments_lexer": "ipython2",
   "version": "2.7.12"
  },
  "widgets": {
   "state": {
    "962436a711af47919160ee22807f2830": {
     "views": [
      {
       "cell_index": 5
      }
     ]
    }
   },
   "version": "1.2.0"
  }
 },
 "nbformat": 4,
 "nbformat_minor": 1
}
